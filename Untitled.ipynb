{
 "cells": [
  {
   "cell_type": "code",
   "execution_count": 3,
   "metadata": {},
   "outputs": [],
   "source": [
    "import pandas as pd\n",
    "import numpy as np\n"
   ]
  },
  {
   "cell_type": "code",
   "execution_count": 7,
   "metadata": {},
   "outputs": [
    {
     "name": "stdout",
     "output_type": "stream",
     "text": [
      "Downloading el-algoritmo-es-correcto.zip to E:\\Habi Competition\n",
      "\n"
     ]
    },
    {
     "name": "stderr",
     "output_type": "stream",
     "text": [
      "\n",
      "  0%|          | 0.00/7.24M [00:00<?, ?B/s]\n",
      " 14%|#3        | 1.00M/7.24M [00:01<00:11, 558kB/s]\n",
      " 28%|##7       | 2.00M/7.24M [00:04<00:10, 505kB/s]\n",
      " 41%|####1     | 3.00M/7.24M [00:06<00:08, 523kB/s]\n",
      " 55%|#####5    | 4.00M/7.24M [00:09<00:07, 458kB/s]\n",
      " 69%|######9   | 5.00M/7.24M [00:11<00:05, 466kB/s]\n",
      " 83%|########2 | 6.00M/7.24M [00:12<00:02, 515kB/s]\n",
      " 97%|#########6| 7.00M/7.24M [00:15<00:00, 469kB/s]\n",
      "100%|##########| 7.24M/7.24M [00:15<00:00, 593kB/s]\n",
      "100%|##########| 7.24M/7.24M [00:15<00:00, 481kB/s]\n"
     ]
    }
   ],
   "source": [
    "#!pip install kaggle\n",
    "!kaggle competitions download -c el-algoritmo-es-correcto"
   ]
  },
  {
   "cell_type": "code",
   "execution_count": 41,
   "metadata": {},
   "outputs": [],
   "source": [
    "train_data = pd.read_csv('train_data.csv')\n",
    "test_data = pd.read_csv('test_data.csv')\n",
    "example = pd.read_csv('example_submission.csv')"
   ]
  },
  {
   "cell_type": "code",
   "execution_count": 13,
   "metadata": {},
   "outputs": [
    {
     "data": {
      "text/plain": [
       "id                         int64\n",
       "area                     float64\n",
       "ascensor                 float64\n",
       "balcon                   float64\n",
       "banos                    float64\n",
       "banoservicio             float64\n",
       "conjuntocerrado            int64\n",
       "cuartoservicio           float64\n",
       "deposito                 float64\n",
       "estrato                  float64\n",
       "estudio                  float64\n",
       "garajes                  float64\n",
       "gimnasio                 float64\n",
       "habitaciones             float64\n",
       "halldealcobas            float64\n",
       "parqueaderovisitantes    float64\n",
       "piscina                  float64\n",
       "piso                     float64\n",
       "porteria                 float64\n",
       "remodelado               float64\n",
       "saloncomunal             float64\n",
       "terraza                  float64\n",
       "tiempodeconstruido        object\n",
       "vigilancia               float64\n",
       "vista                     object\n",
       "zonalavanderia           float64\n",
       "valoradministracion      float64\n",
       "valorventa               float64\n",
       "tipoinmueble              object\n",
       "tiponegocio               object\n",
       "latitud                  float64\n",
       "longitud                 float64\n",
       "dtype: object"
      ]
     },
     "execution_count": 13,
     "metadata": {},
     "output_type": "execute_result"
    }
   ],
   "source": []
  },
  {
   "cell_type": "code",
   "execution_count": 131,
   "metadata": {},
   "outputs": [
    {
     "data": {
      "text/plain": [
       "0"
      ]
     },
     "execution_count": 131,
     "metadata": {},
     "output_type": "execute_result"
    }
   ],
   "source": [
    "dummy_var = ['ascensor','balcon','conjuntocerrado','cuartoservicio','deposito','estudio','gimnasio',\n",
    "            'halldealcobas','parqueaderodevisitantes','piscina','porteria','remodelado','saloncomunal',\n",
    "            'terraza','vigilancia','vista','zonalavanderia']\n",
    "\n",
    "float_var = ['area','banos','banoservicio','estrato','garajes','habitaciones','piso','valoradministracion',\n",
    "            'valorventa']"
   ]
  },
  {
   "cell_type": "code",
   "execution_count": 101,
   "metadata": {},
   "outputs": [
    {
     "data": {
      "text/html": [
       "<div>\n",
       "<style scoped>\n",
       "    .dataframe tbody tr th:only-of-type {\n",
       "        vertical-align: middle;\n",
       "    }\n",
       "\n",
       "    .dataframe tbody tr th {\n",
       "        vertical-align: top;\n",
       "    }\n",
       "\n",
       "    .dataframe thead th {\n",
       "        text-align: right;\n",
       "    }\n",
       "</style>\n",
       "<table border=\"1\" class=\"dataframe\">\n",
       "  <thead>\n",
       "    <tr style=\"text-align: right;\">\n",
       "      <th></th>\n",
       "      <th>id</th>\n",
       "      <th>area</th>\n",
       "      <th>ascensor</th>\n",
       "      <th>balcon</th>\n",
       "      <th>banos</th>\n",
       "      <th>banoservicio</th>\n",
       "      <th>conjuntocerrado</th>\n",
       "      <th>cuartoservicio</th>\n",
       "      <th>deposito</th>\n",
       "      <th>estrato</th>\n",
       "      <th>...</th>\n",
       "      <th>tiempodeconstruido</th>\n",
       "      <th>vigilancia</th>\n",
       "      <th>vista</th>\n",
       "      <th>zonalavanderia</th>\n",
       "      <th>valoradministracion</th>\n",
       "      <th>valorventa</th>\n",
       "      <th>tipoinmueble</th>\n",
       "      <th>tiponegocio</th>\n",
       "      <th>latitud</th>\n",
       "      <th>longitud</th>\n",
       "    </tr>\n",
       "  </thead>\n",
       "  <tbody>\n",
       "    <tr>\n",
       "      <th>108254</th>\n",
       "      <td>403313</td>\n",
       "      <td>162.0</td>\n",
       "      <td>NaN</td>\n",
       "      <td>NaN</td>\n",
       "      <td>4.0</td>\n",
       "      <td>NaN</td>\n",
       "      <td>0</td>\n",
       "      <td>NaN</td>\n",
       "      <td>NaN</td>\n",
       "      <td>3.0</td>\n",
       "      <td>...</td>\n",
       "      <td>NaN</td>\n",
       "      <td>0.0</td>\n",
       "      <td>Exterior</td>\n",
       "      <td>1.0</td>\n",
       "      <td>0.0</td>\n",
       "      <td>550000000.0</td>\n",
       "      <td>Casa</td>\n",
       "      <td>Venta</td>\n",
       "      <td>4.58103</td>\n",
       "      <td>-74.168307</td>\n",
       "    </tr>\n",
       "  </tbody>\n",
       "</table>\n",
       "<p>1 rows × 32 columns</p>\n",
       "</div>"
      ],
      "text/plain": [
       "            id   area  ascensor  balcon  banos  banoservicio  conjuntocerrado  \\\n",
       "108254  403313  162.0       NaN     NaN    4.0           NaN                0   \n",
       "\n",
       "        cuartoservicio  deposito  estrato  ...  tiempodeconstruido  \\\n",
       "108254             NaN       NaN      3.0  ...                 NaN   \n",
       "\n",
       "        vigilancia     vista  zonalavanderia  valoradministracion  \\\n",
       "108254         0.0  Exterior             1.0                  0.0   \n",
       "\n",
       "         valorventa  tipoinmueble  tiponegocio  latitud   longitud  \n",
       "108254  550000000.0          Casa        Venta  4.58103 -74.168307  \n",
       "\n",
       "[1 rows x 32 columns]"
      ]
     },
     "execution_count": 101,
     "metadata": {},
     "output_type": "execute_result"
    }
   ],
   "source": [
    "train_data[train_data['parqueaderovisitantes']==0]"
   ]
  },
  {
   "cell_type": "code",
   "execution_count": 69,
   "metadata": {},
   "outputs": [
    {
     "data": {
      "text/plain": [
       "0        NaN\n",
       "1        NaN\n",
       "2        NaN\n",
       "3        NaN\n",
       "4        NaN\n",
       "          ..\n",
       "244483   NaN\n",
       "244484   NaN\n",
       "244485   NaN\n",
       "244486   NaN\n",
       "244487   NaN\n",
       "Name: parqueaderovisitantes, Length: 244488, dtype: float64"
      ]
     },
     "execution_count": 69,
     "metadata": {},
     "output_type": "execute_result"
    }
   ],
   "source": []
  },
  {
   "cell_type": "code",
   "execution_count": 70,
   "metadata": {},
   "outputs": [],
   "source": [
    "# columns = train_data.columns.tolist()\n",
    "# float_columns = columns[1:6] + columns[7:22]+columns[25:28]+columns[-2:]\n",
    "# float_columns.append('vigilancia')\n",
    "# string_columns = ['tiempodeconstruido','vista','tipoinmueble','tiponegocio']\n",
    "# int_column = ['conjuntocerrado']\n",
    "#train_data[float_columns] = train_data[float_columns].fillna(0)"
   ]
  },
  {
   "cell_type": "code",
   "execution_count": null,
   "metadata": {},
   "outputs": [],
   "source": []
  }
 ],
 "metadata": {
  "kernelspec": {
   "display_name": "Python 3",
   "language": "python",
   "name": "python3"
  },
  "language_info": {
   "codemirror_mode": {
    "name": "ipython",
    "version": 3
   },
   "file_extension": ".py",
   "mimetype": "text/x-python",
   "name": "python",
   "nbconvert_exporter": "python",
   "pygments_lexer": "ipython3",
   "version": "3.8.5"
  }
 },
 "nbformat": 4,
 "nbformat_minor": 4
}
