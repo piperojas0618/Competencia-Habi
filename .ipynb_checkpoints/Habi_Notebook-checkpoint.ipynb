{
 "cells": [
  {
   "cell_type": "markdown",
   "metadata": {},
   "source": [
    "# First import all libraries that are going to be used"
   ]
  },
  {
   "cell_type": "code",
   "execution_count": null,
   "metadata": {},
   "outputs": [],
   "source": [
    "import pandas as pd\n",
    "import numpy as np\n",
    "import sklearn\n",
    "from sklearn.preprocessing import OrdinalEncoder, StandardScaler\n",
    "from sklearn.linear_model import LinearRegression\n",
    "from sklearn.metrics import mean_absolute_percentage_error\n",
    "from sklearn.model_selection import train_test_split\n",
    "from sklearn.decomposition import PCA\n",
    "import matplotlib.pyplot as plt\n",
    "import seaborn as sn\n",
    "from sklearn.cluster import KMeans"
   ]
  },
  {
   "cell_type": "markdown",
   "metadata": {},
   "source": [
    "# Install kaggle API and download data from competition"
   ]
  },
  {
   "cell_type": "code",
   "execution_count": null,
   "metadata": {},
   "outputs": [],
   "source": [
    "#!pip install kaggle\n",
    "#!kaggle competitions download -c el-algoritmo-es-correcto"
   ]
  },
  {
   "cell_type": "markdown",
   "metadata": {},
   "source": [
    "# Read csv as pandas DataFrame"
   ]
  },
  {
   "cell_type": "code",
   "execution_count": null,
   "metadata": {},
   "outputs": [],
   "source": [
    "train_data = pd.read_csv('train_data.csv')\n",
    "test_data = pd.read_csv('test_data.csv')\n",
    "example = pd.read_csv('example_submission.csv')"
   ]
  },
  {
   "cell_type": "markdown",
   "metadata": {},
   "source": [
    "# Divide each column as dummy, float or string"
   ]
  },
  {
   "cell_type": "code",
   "execution_count": null,
   "metadata": {},
   "outputs": [],
   "source": [
    "dummy_var = ['ascensor','balcon','conjuntocerrado','cuartoservicio','deposito','estudio','gimnasio',\n",
    "            'halldealcobas','parqueaderovisitantes','piscina','porteria','remodelado','saloncomunal',\n",
    "            'terraza','vigilancia','vista','zonalavanderia']\n",
    "\n",
    "float_var = ['area','banos','banoservicio','estrato','garajes','habitaciones','piso','valoradministracion',\n",
    "            'valorventa']\n",
    "\n",
    "string_var = ['tiempodeconstruido','vista','tipoinmueble','tiponegocio']"
   ]
  },
  {
   "cell_type": "markdown",
   "metadata": {},
   "source": [
    "# Apply general filter. Fillna with 0's for dummy and float variables and dropna."
   ]
  },
  {
   "cell_type": "code",
   "execution_count": null,
   "metadata": {},
   "outputs": [],
   "source": [
    "train_data[dummy_var] = train_data[dummy_var].fillna(0)\n",
    "train_data['banos'] = train_data['banos'].fillna(1)\n",
    "train_data['habitaciones'] = train_data['habitaciones'].fillna(1)\n",
    "train_data['piso'] = train_data['piso'].fillna(1)\n",
    "train_data[float_var] = train_data[float_var].fillna(0)\n",
    "test_data[dummy_var] = test_data[dummy_var].fillna(0)\n",
    "test_data['banos'] = test_data['banos'].fillna(1)\n",
    "test_data['habitaciones'] = test_data['banos'].fillna(1)\n",
    "test_data['piso'] = test_data['piso'].fillna(1)\n",
    "test_data[float_var] = test_data[float_var].fillna(0)\n",
    "train_data = train_data.dropna()\n",
    "test_data = test_data.dropna()"
   ]
  },
  {
   "cell_type": "markdown",
   "metadata": {},
   "source": [
    "# Specific filters for float variables"
   ]
  },
  {
   "cell_type": "code",
   "execution_count": null,
   "metadata": {},
   "outputs": [],
   "source": [
    "q_up = 0.95\n",
    "q_down = 0.005"
   ]
  },
  {
   "cell_type": "code",
   "execution_count": null,
   "metadata": {},
   "outputs": [],
   "source": [
    "q_banos = train_data[\"banos\"].quantile(q_up)\n",
    "q_banos1 = train_data['banos'].quantile(q_down)\n",
    "train_data = train_data[(train_data[\"banos\"] <= q_banos) & (train_data['banos'] > 0)]\n",
    "boxplot = train_data.boxplot(column=['banos'])"
   ]
  },
  {
   "cell_type": "code",
   "execution_count": null,
   "metadata": {},
   "outputs": [],
   "source": [
    "q_va = train_data['valoradministracion'].quantile(q_up)\n",
    "train_data = train_data[train_data[\"valoradministracion\"] <= q_va]\n",
    "boxplot = train_data.boxplot(column=['valoradministracion'])"
   ]
  },
  {
   "cell_type": "code",
   "execution_count": null,
   "metadata": {},
   "outputs": [],
   "source": [
    "q_vv = train_data['valorventa'].quantile(q_up)\n",
    "q_vv1 = train_data['valorventa'].quantile(q_down)\n",
    "train_data = train_data[(train_data[\"valorventa\"] <= q_vv) & (train_data['valorventa'] >= q_vv1)]\n",
    "boxplot = train_data.boxplot(column=['valorventa'])"
   ]
  },
  {
   "cell_type": "code",
   "execution_count": null,
   "metadata": {},
   "outputs": [],
   "source": [
    "q_a = train_data['area'].quantile(q_up)\n",
    "q_a1 = train_data['area'].quantile(q_down)\n",
    "train_data = train_data[(train_data[\"area\"] <= q_a) & (train_data['area'] >= q_a1)]\n",
    "boxplot = train_data.boxplot(column=['area'])"
   ]
  },
  {
   "cell_type": "code",
   "execution_count": null,
   "metadata": {},
   "outputs": [],
   "source": [
    "q_h = train_data['habitaciones'].quantile(q_up)\n",
    "q_h1 = train_data['habitaciones'].quantile(q_down)\n",
    "train_data = train_data[(train_data[\"habitaciones\"] <= q_h) & (train_data['habitaciones'] >= q_h1)]\n",
    "boxplot = train_data.boxplot(column=['habitaciones'])"
   ]
  },
  {
   "cell_type": "code",
   "execution_count": null,
   "metadata": {
    "scrolled": true
   },
   "outputs": [],
   "source": [
    "q_g = train_data['garajes'].quantile(q_up)\n",
    "train_data = train_data[train_data[\"garajes\"] <= q_g]\n",
    "boxplot = train_data.boxplot(column=['garajes'])"
   ]
  },
  {
   "cell_type": "code",
   "execution_count": null,
   "metadata": {},
   "outputs": [],
   "source": [
    "hist_vv = train_data['valorventa']\n",
    "sn.set_style(\"whitegrid\")\n",
    "sn.distplot(hist_vv)\n",
    "plt.show()\n",
    "\n",
    "train_data[\"valorventa_log\"] = np.log(train_data['valorventa'])\n",
    "hist_vvlog = train_data['valorventa_log']\n",
    "sn.distplot(hist_vvlog)\n",
    "plt.show()\n",
    "\n",
    "test_data['valorventa_log'] = np.log(test_data['valorventa'])"
   ]
  },
  {
   "cell_type": "code",
   "execution_count": null,
   "metadata": {},
   "outputs": [],
   "source": [
    "hist_a = train_data['area']\n",
    "sn.set_style(\"whitegrid\")\n",
    "sn.distplot(hist_a)\n",
    "plt.show()\n",
    "\n",
    "train_data['area_log'] = np.log(train_data['area'])\n",
    "hist_alog = train_data['area_log']\n",
    "sn.distplot(hist_alog)\n",
    "plt.show()\n",
    "\n",
    "test_data['area_log'] = np.log(test_data['area'])"
   ]
  },
  {
   "cell_type": "markdown",
   "metadata": {},
   "source": [
    "# Modify string variables"
   ]
  },
  {
   "cell_type": "code",
   "execution_count": null,
   "metadata": {},
   "outputs": [],
   "source": [
    "#test_data = test_data.dropna()\n",
    "train_data['vista'] = train_data['vista'].replace(0,'Interior')\n",
    "test_data['vista'] = test_data['vista'].replace(0,'Interior')\n",
    "train_data['tiponegocio'] = train_data['tiponegocio'].replace('Venta y arriendo','Venta Y Arriendo')\n",
    "train_data['tiempodeconstruido'] = train_data['tiempodeconstruido'].replace('ntre 0 y 5 años','Entre 0 y 5 años')\n",
    "train_data['valor/m2'] = train_data['valorventa'] / train_data['area']\n",
    "train_data['valor_habi'] = train_data['valor/m2']*0.95\n",
    "train_data"
   ]
  },
  {
   "cell_type": "markdown",
   "metadata": {},
   "source": [
    "# Apply Ordinal Encoder to String columns"
   ]
  },
  {
   "cell_type": "code",
   "execution_count": null,
   "metadata": {},
   "outputs": [],
   "source": [
    "enc = OrdinalEncoder()\n",
    "\n",
    "X_tn = train_data['tiponegocio'].to_numpy().reshape(len(train_data),1)\n",
    "X_transform_tn = enc.fit_transform(X_tn)\n",
    "train_data['tiponegocio_int'] = X_transform_tn\n",
    "\n",
    "X_v = train_data['vista'].to_numpy().reshape(len(train_data),1)\n",
    "X_transform_v = enc.fit_transform(X_v)\n",
    "train_data['vista_int'] = X_transform_v\n",
    "\n",
    "X_ti = train_data['tipoinmueble'].to_numpy().reshape(len(train_data),1)\n",
    "X_transform_ti = enc.fit_transform(X_ti)\n",
    "train_data['tipoinmueble_int'] = X_transform_ti\n",
    "\n",
    "X_tc = train_data['tiempodeconstruido'].to_numpy().reshape(len(train_data),1)\n",
    "X_transform_tc = enc.fit_transform(X_tc)\n",
    "train_data['tiempodeconstruido_int'] = X_transform_tc"
   ]
  },
  {
   "cell_type": "code",
   "execution_count": null,
   "metadata": {},
   "outputs": [],
   "source": [
    "X_ttn = test_data['tiponegocio'].to_numpy().reshape(len(test_data),1)\n",
    "X_transform_ttn = enc.fit_transform(X_ttn)\n",
    "test_data['tiponegocio_int'] = X_transform_ttn\n",
    "\n",
    "X_tv = test_data['vista'].to_numpy().reshape(len(test_data),1)\n",
    "X_transform_tv = enc.fit_transform(X_tv)\n",
    "test_data['vista_int'] = X_transform_tv\n",
    "\n",
    "X_tti = test_data['tipoinmueble'].to_numpy().reshape(len(test_data),1)\n",
    "X_transform_tti = enc.fit_transform(X_tti)\n",
    "test_data['tipoinmueble_int'] = X_transform_tti\n",
    "\n",
    "X_ttc = test_data['tiempodeconstruido'].to_numpy().reshape(len(test_data),1)\n",
    "X_transform_ttc = enc.fit_transform(X_ttc)\n",
    "test_data['tiempodeconstruido_int'] = X_transform_ttc"
   ]
  },
  {
   "cell_type": "code",
   "execution_count": null,
   "metadata": {},
   "outputs": [],
   "source": [
    "train_data_2 = train_data.select_dtypes(exclude = 'object')\n",
    "test_data_2 = test_data.select_dtypes(exclude = 'object')\n",
    "train_data_2 = train_data_2.drop(columns = ['area','id','valorventa'])\n",
    "test_data_2 = test_data_2.drop(columns = ['area','valorventa'])"
   ]
  },
  {
   "cell_type": "code",
   "execution_count": null,
   "metadata": {},
   "outputs": [],
   "source": [
    "columns = train_data_2.columns.tolist()\n",
    "train_columns = columns[:-6] + columns[-4:]\n",
    "test_columns = columns[-5]\n",
    "X = train_data_2[train_columns].to_numpy()\n",
    "Y = train_data_2[test_columns].to_numpy()\n",
    "Y = Y.reshape(Y.shape[0],)\n",
    "X_train, X_test, y_train, y_test = train_test_split(X, Y, test_size=0.30, random_state=42)\n",
    "#Linear regression model\n",
    "reg = LinearRegression().fit(X_train, y_train)\n",
    "Y_pred = reg.predict(X_test)\n",
    "mape = mean_absolute_percentage_error(y_test,Y_pred)\n",
    "print(mape)"
   ]
  },
  {
   "cell_type": "code",
   "execution_count": null,
   "metadata": {},
   "outputs": [],
   "source": [
    "#Test model\n",
    "columns_test = test_data_2.columns.tolist()\n",
    "X_pred_cols = columns_test[1:]\n",
    "X_pred = test_data_2[X_pred_cols].to_numpy()\n",
    "Y_pred_test = reg.predict(X_pred)\n",
    "test_data_2['valor_mt2_predicted'] = np.round(Y_pred_test.tolist(),3)\n",
    "submission = pd.DataFrame()\n",
    "submission['id'] = test_data_2['id']\n",
    "submission['valormt2_predicted'] = test_data_2['valor_mt2_predicted']\n",
    "#submission.to_csv('submission.csv',index = False, decimal = '.',sep = ',')\n",
    "submission"
   ]
  }
 ],
 "metadata": {
  "kernelspec": {
   "display_name": "Python 3",
   "language": "python",
   "name": "python3"
  },
  "language_info": {
   "codemirror_mode": {
    "name": "ipython",
    "version": 3
   },
   "file_extension": ".py",
   "mimetype": "text/x-python",
   "name": "python",
   "nbconvert_exporter": "python",
   "pygments_lexer": "ipython3",
   "version": "3.8.5"
  }
 },
 "nbformat": 4,
 "nbformat_minor": 4
}
