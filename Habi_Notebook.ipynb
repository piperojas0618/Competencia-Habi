{
 "cells": [
  {
   "cell_type": "markdown",
   "metadata": {},
   "source": [
    "# First import all libraries that are going to be used"
   ]
  },
  {
   "cell_type": "code",
   "execution_count": 1,
   "metadata": {},
   "outputs": [],
   "source": [
    "import pandas as pd\n",
    "import numpy as np\n",
    "import sklearn\n",
    "from sklearn.preprocessing import OrdinalEncoder\n",
    "from sklearn.linear_model import LinearRegression\n",
    "from sklearn.metrics import mean_absolute_percentage_error\n",
    "from sklearn.model_selection import train_test_split, GridSearchCV\n",
    "from sklearn.decomposition import PCA\n",
    "import matplotlib.pyplot as plt\n",
    "import seaborn as sn\n",
    "from sklearn.cluster import KMeans\n",
    "from sklearn.metrics import silhouette_score\n",
    "from sklearn.ensemble import RandomForestRegressor, GradientBoostingRegressor\n"
   ]
  },
  {
   "cell_type": "markdown",
   "metadata": {},
   "source": [
    "# Install kaggle API and download data from competition"
   ]
  },
  {
   "cell_type": "code",
   "execution_count": 2,
   "metadata": {},
   "outputs": [],
   "source": [
    "#!pip install kaggle\n",
    "#!kaggle competitions download -c el-algoritmo-es-correcto"
   ]
  },
  {
   "cell_type": "markdown",
   "metadata": {},
   "source": [
    "# Read csv as pandas DataFrame"
   ]
  },
  {
   "cell_type": "code",
   "execution_count": 3,
   "metadata": {},
   "outputs": [],
   "source": [
    "train_data = pd.read_csv('train_data.csv')\n",
    "test_data = pd.read_csv('test_data.csv')\n",
    "example = pd.read_csv('example_submission.csv')"
   ]
  },
  {
   "cell_type": "markdown",
   "metadata": {},
   "source": [
    "# Divide each column as dummy, float or string"
   ]
  },
  {
   "cell_type": "code",
   "execution_count": 4,
   "metadata": {},
   "outputs": [],
   "source": [
    "dummy_var = ['ascensor','balcon','conjuntocerrado','cuartoservicio','deposito','estudio','gimnasio',\n",
    "            'halldealcobas','parqueaderovisitantes','piscina','porteria','remodelado','saloncomunal',\n",
    "            'terraza','vigilancia','vista','zonalavanderia']\n",
    "\n",
    "float_var = ['area','banos','banoservicio','estrato','garajes','habitaciones','piso','valoradministracion',\n",
    "            'valorventa']\n",
    "\n",
    "string_var = ['tiempodeconstruido','vista','tipoinmueble','tiponegocio']"
   ]
  },
  {
   "cell_type": "markdown",
   "metadata": {},
   "source": [
    "# Apply general filter. Fillna with 0's for dummy and float variables and dropna."
   ]
  },
  {
   "cell_type": "code",
   "execution_count": 5,
   "metadata": {},
   "outputs": [],
   "source": [
    "train_data[dummy_var] = train_data[dummy_var].fillna(0)\n",
    "train_data['banos'] = train_data['banos'].fillna(1)\n",
    "train_data['habitaciones'] = train_data['habitaciones'].fillna(1)\n",
    "train_data['piso'] = train_data['piso'].fillna(1)\n",
    "train_data[float_var] = train_data[float_var].fillna(0)\n",
    "test_data[dummy_var] = test_data[dummy_var].fillna(0)\n",
    "test_data['banos'] = test_data['banos'].fillna(1)\n",
    "test_data['habitaciones'] = test_data['banos'].fillna(1)\n",
    "test_data['piso'] = test_data['piso'].fillna(1)\n",
    "test_data[float_var] = test_data[float_var].fillna(0)\n",
    "train_data = train_data.dropna()\n",
    "test_data = test_data.dropna()\n",
    "train_data = train_data[train_data['tipoinmueble'] == 'Casa']"
   ]
  },
  {
   "cell_type": "markdown",
   "metadata": {},
   "source": [
    "# Specific filters for float variables"
   ]
  },
  {
   "cell_type": "code",
   "execution_count": 6,
   "metadata": {},
   "outputs": [],
   "source": [
    "q_up = 0.95\n",
    "q_down = 0.005"
   ]
  },
  {
   "cell_type": "code",
   "execution_count": 7,
   "metadata": {},
   "outputs": [
    {
     "data": {
      "image/png": "[encoded data removed]",
      "text/plain": [
       "<Figure size 432x288 with 1 Axes>"
      ]
     },
     "metadata": {
      "needs_background": "light"
     },
     "output_type": "display_data"
    }
   ],
   "source": [
    "q_banos = train_data[\"banos\"].quantile(q_up)\n",
    "q_banos1 = train_data['banos'].quantile(q_down)\n",
    "train_data = train_data[(train_data[\"banos\"] <= q_banos) & (train_data['banos'] > 0)]\n",
    "boxplot = train_data.boxplot(column=['banos'])"
   ]
  },
  {
   "cell_type": "code",
   "execution_count": 8,
   "metadata": {},
   "outputs": [
    {
     "data": {
      "image/png": "[encoded data removed]",
      "text/plain": [
       "<Figure size 432x288 with 1 Axes>"
      ]
     },
     "metadata": {
      "needs_background": "light"
     },
     "output_type": "display_data"
    }
   ],
   "source": [
    "q_va = train_data['valoradministracion'].quantile(q_up)\n",
    "train_data = train_data[train_data[\"valoradministracion\"] <= q_va]\n",
    "boxplot = train_data.boxplot(column=['valoradministracion'])"
   ]
  },
  {
   "cell_type": "code",
   "execution_count": 9,
   "metadata": {},
   "outputs": [
    {
     "data": {
      "image/png": "[encoded data removed]",
      "text/plain": [
       "<Figure size 432x288 with 1 Axes>"
      ]
     },
     "metadata": {
      "needs_background": "light"
     },
     "output_type": "display_data"
    }
   ],
   "source": [
    "q_vv = train_data['valorventa'].quantile(q_up)\n",
    "q_vv1 = train_data['valorventa'].quantile(q_down)\n",
    "train_data = train_data[(train_data[\"valorventa\"] <= q_vv) & (train_data['valorventa'] >= q_vv1)]\n",
    "boxplot = train_data.boxplot(column=['valorventa'])"
   ]
  },
  {
   "cell_type": "code",
   "execution_count": 10,
   "metadata": {},
   "outputs": [
    {
     "data": {
      "image/png": "[encoded data removed]",
      "text/plain": [
       "<Figure size 432x288 with 1 Axes>"
      ]
     },
     "metadata": {
      "needs_background": "light"
     },
     "output_type": "display_data"
    }
   ],
   "source": [
    "q_a = train_data['area'].quantile(q_up)\n",
    "q_a1 = train_data['area'].quantile(q_down)\n",
    "train_data = train_data[(train_data[\"area\"] <= q_a) & (train_data['area'] >= q_a1)]\n",
    "boxplot = train_data.boxplot(column=['area'])"
   ]
  },
  {
   "cell_type": "code",
   "execution_count": 11,
   "metadata": {},
   "outputs": [
    {
     "data": {
      "image/png": "[encoded data removed]",
      "text/plain": [
       "<Figure size 432x288 with 1 Axes>"
      ]
     },
     "metadata": {
      "needs_background": "light"
     },
     "output_type": "display_data"
    }
   ],
   "source": [
    "q_h = train_data['habitaciones'].quantile(q_up)\n",
    "q_h1 = train_data['habitaciones'].quantile(q_down)\n",
    "train_data = train_data[(train_data[\"habitaciones\"] <= q_h) & (train_data['habitaciones'] >= q_h1)]\n",
    "boxplot = train_data.boxplot(column=['habitaciones'])"
   ]
  },
  {
   "cell_type": "code",
   "execution_count": 12,
   "metadata": {
    "scrolled": false
   },
   "outputs": [
    {
     "data": {
      "image/png": "[encoded data removed]",
      "text/plain": [
       "<Figure size 432x288 with 1 Axes>"
      ]
     },
     "metadata": {
      "needs_background": "light"
     },
     "output_type": "display_data"
    }
   ],
   "source": [
    "q_g = train_data['garajes'].quantile(q_up)\n",
    "train_data = train_data[train_data[\"garajes\"] <= q_g]\n",
    "boxplot = train_data.boxplot(column=['garajes'])"
   ]
  },
  {
   "cell_type": "code",
   "execution_count": 13,
   "metadata": {},
   "outputs": [
    {
     "data": {
      "image/png": "[encoded data removed]",
      "text/plain": [
       "<Figure size 432x288 with 1 Axes>"
      ]
     },
     "metadata": {
      "needs_background": "light"
     },
     "output_type": "display_data"
    }
   ],
   "source": [
    "q_p = train_data['piso'].quantile(q_up)\n",
    "train_data = train_data[train_data[\"piso\"] <= q_p]\n",
    "boxplot = train_data.boxplot(column=['piso'])"
   ]
  },
  {
   "cell_type": "code",
   "execution_count": 14,
   "metadata": {},
   "outputs": [
    {
     "name": "stderr",
     "output_type": "stream",
     "text": [
      "C:\\Users\\piper\\anaconda3\\lib\\site-packages\\seaborn\\distributions.py:2551: FutureWarning: `distplot` is a deprecated function and will be removed in a future version. Please adapt your code to use either `displot` (a figure-level function with similar flexibility) or `histplot` (an axes-level function for histograms).\n",
      "  warnings.warn(msg, FutureWarning)\n"
     ]
    },
    {
     "data": {
      "image/png": "[encoded data removed]",
      "text/plain": [
       "<Figure size 432x288 with 1 Axes>"
      ]
     },
     "metadata": {},
     "output_type": "display_data"
    },
    {
     "name": "stderr",
     "output_type": "stream",
     "text": [
      "C:\\Users\\piper\\anaconda3\\lib\\site-packages\\seaborn\\distributions.py:2551: FutureWarning: `distplot` is a deprecated function and will be removed in a future version. Please adapt your code to use either `displot` (a figure-level function with similar flexibility) or `histplot` (an axes-level function for histograms).\n",
      "  warnings.warn(msg, FutureWarning)\n"
     ]
    },
    {
     "data": {
      "image/png": "[encoded data removed]",
      "text/plain": [
       "<Figure size 432x288 with 1 Axes>"
      ]
     },
     "metadata": {},
     "output_type": "display_data"
    }
   ],
   "source": [
    "hist_vv = train_data['valorventa']\n",
    "sn.set_style(\"whitegrid\")\n",
    "sn.distplot(hist_vv)\n",
    "plt.show()\n",
    "\n",
    "train_data[\"valorventa_log\"] = np.log(train_data['valorventa'])\n",
    "hist_vvlog = train_data['valorventa_log']\n",
    "sn.distplot(hist_vvlog)\n",
    "plt.show()\n",
    "\n",
    "test_data['valorventa_log'] = np.log(test_data['valorventa'])"
   ]
  },
  {
   "cell_type": "code",
   "execution_count": 15,
   "metadata": {},
   "outputs": [
    {
     "name": "stderr",
     "output_type": "stream",
     "text": [
      "C:\\Users\\piper\\anaconda3\\lib\\site-packages\\seaborn\\distributions.py:2551: FutureWarning: `distplot` is a deprecated function and will be removed in a future version. Please adapt your code to use either `displot` (a figure-level function with similar flexibility) or `histplot` (an axes-level function for histograms).\n",
      "  warnings.warn(msg, FutureWarning)\n"
     ]
    },
    {
     "data": {
      "image/png": "[encoded data removed]",
      "text/plain": [
       "<Figure size 432x288 with 1 Axes>"
      ]
     },
     "metadata": {},
     "output_type": "display_data"
    },
    {
     "name": "stderr",
     "output_type": "stream",
     "text": [
      "C:\\Users\\piper\\anaconda3\\lib\\site-packages\\seaborn\\distributions.py:2551: FutureWarning: `distplot` is a deprecated function and will be removed in a future version. Please adapt your code to use either `displot` (a figure-level function with similar flexibility) or `histplot` (an axes-level function for histograms).\n",
      "  warnings.warn(msg, FutureWarning)\n"
     ]
    },
    {
     "data": {
      "image/png": "[encoded data removed]",
      "text/plain": [
       "<Figure size 432x288 with 1 Axes>"
      ]
     },
     "metadata": {},
     "output_type": "display_data"
    }
   ],
   "source": [
    "hist_a = train_data['area']\n",
    "sn.set_style(\"whitegrid\")\n",
    "sn.distplot(hist_a)\n",
    "plt.show()\n",
    "\n",
    "train_data['area_log'] = np.log(train_data['area'])\n",
    "hist_alog = train_data['area_log']\n",
    "sn.distplot(hist_alog)\n",
    "plt.show()\n",
    "\n",
    "test_data['area_log'] = np.log(test_data['area'])"
   ]
  },
  {
   "cell_type": "markdown",
   "metadata": {},
   "source": [
    "# Modify string variables"
   ]
  },
  {
   "cell_type": "code",
   "execution_count": 16,
   "metadata": {},
   "outputs": [
    {
     "name": "stdout",
     "output_type": "stream",
     "text": [
      "0.9155010572019359\n"
     ]
    }
   ],
   "source": [
    "silhouette = []  #Empty list\n",
    "l = ['latitud','longitud','estrato']\n",
    "X = train_data[l].to_numpy()\n",
    "#for n_clusters in range(5, 20):\n",
    "#    kmeans = KMeans(n_clusters = n_clusters, random_state = 99,init='random')  #Implementation of K - MEANS\n",
    "#    cluster_labels = kmeans.fit_predict(X)    #Predict the right cluster for each sample. \n",
    "#    score = silhouette_score(X, cluster_labels)  #Calculate the silhouette score. \n",
    "#    silhouette.append(score)  \n",
    "#    print(\"For n_clusters = {}, silhouette score is {}\".format(n_clusters, score))\n",
    "\n",
    "#plt.show()\n",
    "#silhouette_fig, ax = plt.subplots()\n",
    "#ax.plot(range(5,20), silhouette)\n",
    "#ax.set_xlabel('Number of clusters')\n",
    "#ax.set_ylabel('Silhouette score')\n",
    "#ax.set_xticks(np.arange(5,20, 1.0))\n",
    "#silhouette_fig.suptitle(\"Finding the right number of clusters\", weight = 'bold', size = 18)\n",
    "\n",
    "kmeans = KMeans(n_clusters = 10, random_state = 99,init='random')  #Implementation of K - MEANS\n",
    "cluster_labels = kmeans.fit_predict(X)    #Predict the right cluster for each sample. \n",
    "score = silhouette_score(X, cluster_labels)\n",
    "print(score)\n",
    "train_data['cluster_labels'] = cluster_labels"
   ]
  },
  {
   "cell_type": "code",
   "execution_count": 17,
   "metadata": {},
   "outputs": [
    {
     "data": {
      "text/html": [
       "<div>\n",
       "<style scoped>\n",
       "    .dataframe tbody tr th:only-of-type {\n",
       "        vertical-align: middle;\n",
       "    }\n",
       "\n",
       "    .dataframe tbody tr th {\n",
       "        vertical-align: top;\n",
       "    }\n",
       "\n",
       "    .dataframe thead th {\n",
       "        text-align: right;\n",
       "    }\n",
       "</style>\n",
       "<table border=\"1\" class=\"dataframe\">\n",
       "  <thead>\n",
       "    <tr style=\"text-align: right;\">\n",
       "      <th></th>\n",
       "      <th>id</th>\n",
       "      <th>area</th>\n",
       "      <th>ascensor</th>\n",
       "      <th>balcon</th>\n",
       "      <th>banos</th>\n",
       "      <th>banoservicio</th>\n",
       "      <th>conjuntocerrado</th>\n",
       "      <th>cuartoservicio</th>\n",
       "      <th>deposito</th>\n",
       "      <th>estrato</th>\n",
       "      <th>...</th>\n",
       "      <th>valorventa</th>\n",
       "      <th>tipoinmueble</th>\n",
       "      <th>tiponegocio</th>\n",
       "      <th>latitud</th>\n",
       "      <th>longitud</th>\n",
       "      <th>valorventa_log</th>\n",
       "      <th>area_log</th>\n",
       "      <th>cluster_labels</th>\n",
       "      <th>valor/m2</th>\n",
       "      <th>valor_habi</th>\n",
       "    </tr>\n",
       "  </thead>\n",
       "  <tbody>\n",
       "    <tr>\n",
       "      <th>137</th>\n",
       "      <td>149045</td>\n",
       "      <td>150.0</td>\n",
       "      <td>0.0</td>\n",
       "      <td>0.0</td>\n",
       "      <td>1.0</td>\n",
       "      <td>0.0</td>\n",
       "      <td>0</td>\n",
       "      <td>0.0</td>\n",
       "      <td>0.0</td>\n",
       "      <td>3.0</td>\n",
       "      <td>...</td>\n",
       "      <td>4.700000e+08</td>\n",
       "      <td>Casa</td>\n",
       "      <td>Venta</td>\n",
       "      <td>4.677140</td>\n",
       "      <td>-74.077888</td>\n",
       "      <td>19.968243</td>\n",
       "      <td>5.010635</td>\n",
       "      <td>3</td>\n",
       "      <td>3.133333e+06</td>\n",
       "      <td>2.898333e+06</td>\n",
       "    </tr>\n",
       "    <tr>\n",
       "      <th>138</th>\n",
       "      <td>252723</td>\n",
       "      <td>180.0</td>\n",
       "      <td>0.0</td>\n",
       "      <td>0.0</td>\n",
       "      <td>1.0</td>\n",
       "      <td>0.0</td>\n",
       "      <td>0</td>\n",
       "      <td>0.0</td>\n",
       "      <td>0.0</td>\n",
       "      <td>3.0</td>\n",
       "      <td>...</td>\n",
       "      <td>1.003000e+09</td>\n",
       "      <td>Casa</td>\n",
       "      <td>Venta Y Arriendo</td>\n",
       "      <td>4.704200</td>\n",
       "      <td>-74.101032</td>\n",
       "      <td>20.726261</td>\n",
       "      <td>5.192957</td>\n",
       "      <td>3</td>\n",
       "      <td>5.572222e+06</td>\n",
       "      <td>5.154306e+06</td>\n",
       "    </tr>\n",
       "    <tr>\n",
       "      <th>145</th>\n",
       "      <td>260959</td>\n",
       "      <td>313.0</td>\n",
       "      <td>0.0</td>\n",
       "      <td>0.0</td>\n",
       "      <td>1.0</td>\n",
       "      <td>0.0</td>\n",
       "      <td>0</td>\n",
       "      <td>0.0</td>\n",
       "      <td>0.0</td>\n",
       "      <td>3.0</td>\n",
       "      <td>...</td>\n",
       "      <td>1.100000e+09</td>\n",
       "      <td>Casa</td>\n",
       "      <td>Venta</td>\n",
       "      <td>4.745356</td>\n",
       "      <td>-74.046819</td>\n",
       "      <td>20.818576</td>\n",
       "      <td>5.746203</td>\n",
       "      <td>3</td>\n",
       "      <td>3.514377e+06</td>\n",
       "      <td>3.250799e+06</td>\n",
       "    </tr>\n",
       "    <tr>\n",
       "      <th>337</th>\n",
       "      <td>537063</td>\n",
       "      <td>360.0</td>\n",
       "      <td>0.0</td>\n",
       "      <td>0.0</td>\n",
       "      <td>1.0</td>\n",
       "      <td>0.0</td>\n",
       "      <td>0</td>\n",
       "      <td>0.0</td>\n",
       "      <td>0.0</td>\n",
       "      <td>4.0</td>\n",
       "      <td>...</td>\n",
       "      <td>2.110000e+09</td>\n",
       "      <td>Casa</td>\n",
       "      <td>Venta</td>\n",
       "      <td>4.664143</td>\n",
       "      <td>-74.108200</td>\n",
       "      <td>21.469954</td>\n",
       "      <td>5.886104</td>\n",
       "      <td>2</td>\n",
       "      <td>5.861111e+06</td>\n",
       "      <td>5.421528e+06</td>\n",
       "    </tr>\n",
       "    <tr>\n",
       "      <th>489</th>\n",
       "      <td>358081</td>\n",
       "      <td>450.0</td>\n",
       "      <td>0.0</td>\n",
       "      <td>0.0</td>\n",
       "      <td>1.0</td>\n",
       "      <td>0.0</td>\n",
       "      <td>0</td>\n",
       "      <td>0.0</td>\n",
       "      <td>0.0</td>\n",
       "      <td>5.0</td>\n",
       "      <td>...</td>\n",
       "      <td>1.650000e+09</td>\n",
       "      <td>Casa</td>\n",
       "      <td>Venta</td>\n",
       "      <td>4.693888</td>\n",
       "      <td>-74.063082</td>\n",
       "      <td>21.224041</td>\n",
       "      <td>6.109248</td>\n",
       "      <td>0</td>\n",
       "      <td>3.666667e+06</td>\n",
       "      <td>3.391667e+06</td>\n",
       "    </tr>\n",
       "    <tr>\n",
       "      <th>...</th>\n",
       "      <td>...</td>\n",
       "      <td>...</td>\n",
       "      <td>...</td>\n",
       "      <td>...</td>\n",
       "      <td>...</td>\n",
       "      <td>...</td>\n",
       "      <td>...</td>\n",
       "      <td>...</td>\n",
       "      <td>...</td>\n",
       "      <td>...</td>\n",
       "      <td>...</td>\n",
       "      <td>...</td>\n",
       "      <td>...</td>\n",
       "      <td>...</td>\n",
       "      <td>...</td>\n",
       "      <td>...</td>\n",
       "      <td>...</td>\n",
       "      <td>...</td>\n",
       "      <td>...</td>\n",
       "      <td>...</td>\n",
       "      <td>...</td>\n",
       "    </tr>\n",
       "    <tr>\n",
       "      <th>244483</th>\n",
       "      <td>6262941</td>\n",
       "      <td>235.0</td>\n",
       "      <td>0.0</td>\n",
       "      <td>0.0</td>\n",
       "      <td>4.0</td>\n",
       "      <td>0.0</td>\n",
       "      <td>0</td>\n",
       "      <td>1.0</td>\n",
       "      <td>0.0</td>\n",
       "      <td>4.0</td>\n",
       "      <td>...</td>\n",
       "      <td>8.056924e+08</td>\n",
       "      <td>Casa</td>\n",
       "      <td>Venta</td>\n",
       "      <td>4.737393</td>\n",
       "      <td>-74.038282</td>\n",
       "      <td>20.507213</td>\n",
       "      <td>5.459586</td>\n",
       "      <td>2</td>\n",
       "      <td>3.428478e+06</td>\n",
       "      <td>3.171342e+06</td>\n",
       "    </tr>\n",
       "    <tr>\n",
       "      <th>244484</th>\n",
       "      <td>6262942</td>\n",
       "      <td>225.0</td>\n",
       "      <td>0.0</td>\n",
       "      <td>0.0</td>\n",
       "      <td>4.0</td>\n",
       "      <td>0.0</td>\n",
       "      <td>0</td>\n",
       "      <td>1.0</td>\n",
       "      <td>0.0</td>\n",
       "      <td>4.0</td>\n",
       "      <td>...</td>\n",
       "      <td>7.509566e+08</td>\n",
       "      <td>Casa</td>\n",
       "      <td>Venta</td>\n",
       "      <td>4.734240</td>\n",
       "      <td>-74.038518</td>\n",
       "      <td>20.436858</td>\n",
       "      <td>5.416100</td>\n",
       "      <td>2</td>\n",
       "      <td>3.337585e+06</td>\n",
       "      <td>3.087266e+06</td>\n",
       "    </tr>\n",
       "    <tr>\n",
       "      <th>244485</th>\n",
       "      <td>6262943</td>\n",
       "      <td>235.0</td>\n",
       "      <td>0.0</td>\n",
       "      <td>0.0</td>\n",
       "      <td>4.0</td>\n",
       "      <td>0.0</td>\n",
       "      <td>0</td>\n",
       "      <td>1.0</td>\n",
       "      <td>0.0</td>\n",
       "      <td>4.0</td>\n",
       "      <td>...</td>\n",
       "      <td>7.525618e+08</td>\n",
       "      <td>Casa</td>\n",
       "      <td>Venta</td>\n",
       "      <td>4.736392</td>\n",
       "      <td>-74.040659</td>\n",
       "      <td>20.438994</td>\n",
       "      <td>5.459586</td>\n",
       "      <td>2</td>\n",
       "      <td>3.202391e+06</td>\n",
       "      <td>2.962211e+06</td>\n",
       "    </tr>\n",
       "    <tr>\n",
       "      <th>244486</th>\n",
       "      <td>6262944</td>\n",
       "      <td>232.0</td>\n",
       "      <td>0.0</td>\n",
       "      <td>0.0</td>\n",
       "      <td>4.0</td>\n",
       "      <td>0.0</td>\n",
       "      <td>0</td>\n",
       "      <td>1.0</td>\n",
       "      <td>0.0</td>\n",
       "      <td>4.0</td>\n",
       "      <td>...</td>\n",
       "      <td>7.049425e+08</td>\n",
       "      <td>Casa</td>\n",
       "      <td>Venta</td>\n",
       "      <td>4.737524</td>\n",
       "      <td>-74.040292</td>\n",
       "      <td>20.373627</td>\n",
       "      <td>5.446737</td>\n",
       "      <td>2</td>\n",
       "      <td>3.038545e+06</td>\n",
       "      <td>2.810655e+06</td>\n",
       "    </tr>\n",
       "    <tr>\n",
       "      <th>244487</th>\n",
       "      <td>6262945</td>\n",
       "      <td>237.0</td>\n",
       "      <td>0.0</td>\n",
       "      <td>0.0</td>\n",
       "      <td>4.0</td>\n",
       "      <td>0.0</td>\n",
       "      <td>0</td>\n",
       "      <td>1.0</td>\n",
       "      <td>0.0</td>\n",
       "      <td>5.0</td>\n",
       "      <td>...</td>\n",
       "      <td>9.349323e+08</td>\n",
       "      <td>Casa</td>\n",
       "      <td>Venta</td>\n",
       "      <td>4.702653</td>\n",
       "      <td>-74.058467</td>\n",
       "      <td>20.655985</td>\n",
       "      <td>5.468060</td>\n",
       "      <td>0</td>\n",
       "      <td>3.944862e+06</td>\n",
       "      <td>3.648997e+06</td>\n",
       "    </tr>\n",
       "  </tbody>\n",
       "</table>\n",
       "<p>32003 rows × 37 columns</p>\n",
       "</div>"
      ],
      "text/plain": [
       "             id   area  ascensor  balcon  banos  banoservicio  \\\n",
       "137      149045  150.0       0.0     0.0    1.0           0.0   \n",
       "138      252723  180.0       0.0     0.0    1.0           0.0   \n",
       "145      260959  313.0       0.0     0.0    1.0           0.0   \n",
       "337      537063  360.0       0.0     0.0    1.0           0.0   \n",
       "489      358081  450.0       0.0     0.0    1.0           0.0   \n",
       "...         ...    ...       ...     ...    ...           ...   \n",
       "244483  6262941  235.0       0.0     0.0    4.0           0.0   \n",
       "244484  6262942  225.0       0.0     0.0    4.0           0.0   \n",
       "244485  6262943  235.0       0.0     0.0    4.0           0.0   \n",
       "244486  6262944  232.0       0.0     0.0    4.0           0.0   \n",
       "244487  6262945  237.0       0.0     0.0    4.0           0.0   \n",
       "\n",
       "        conjuntocerrado  cuartoservicio  deposito  estrato  ...    valorventa  \\\n",
       "137                   0             0.0       0.0      3.0  ...  4.700000e+08   \n",
       "138                   0             0.0       0.0      3.0  ...  1.003000e+09   \n",
       "145                   0             0.0       0.0      3.0  ...  1.100000e+09   \n",
       "337                   0             0.0       0.0      4.0  ...  2.110000e+09   \n",
       "489                   0             0.0       0.0      5.0  ...  1.650000e+09   \n",
       "...                 ...             ...       ...      ...  ...           ...   \n",
       "244483                0             1.0       0.0      4.0  ...  8.056924e+08   \n",
       "244484                0             1.0       0.0      4.0  ...  7.509566e+08   \n",
       "244485                0             1.0       0.0      4.0  ...  7.525618e+08   \n",
       "244486                0             1.0       0.0      4.0  ...  7.049425e+08   \n",
       "244487                0             1.0       0.0      5.0  ...  9.349323e+08   \n",
       "\n",
       "        tipoinmueble       tiponegocio   latitud   longitud  valorventa_log  \\\n",
       "137             Casa             Venta  4.677140 -74.077888       19.968243   \n",
       "138             Casa  Venta Y Arriendo  4.704200 -74.101032       20.726261   \n",
       "145             Casa             Venta  4.745356 -74.046819       20.818576   \n",
       "337             Casa             Venta  4.664143 -74.108200       21.469954   \n",
       "489             Casa             Venta  4.693888 -74.063082       21.224041   \n",
       "...              ...               ...       ...        ...             ...   \n",
       "244483          Casa             Venta  4.737393 -74.038282       20.507213   \n",
       "244484          Casa             Venta  4.734240 -74.038518       20.436858   \n",
       "244485          Casa             Venta  4.736392 -74.040659       20.438994   \n",
       "244486          Casa             Venta  4.737524 -74.040292       20.373627   \n",
       "244487          Casa             Venta  4.702653 -74.058467       20.655985   \n",
       "\n",
       "        area_log  cluster_labels      valor/m2    valor_habi  \n",
       "137     5.010635               3  3.133333e+06  2.898333e+06  \n",
       "138     5.192957               3  5.572222e+06  5.154306e+06  \n",
       "145     5.746203               3  3.514377e+06  3.250799e+06  \n",
       "337     5.886104               2  5.861111e+06  5.421528e+06  \n",
       "489     6.109248               0  3.666667e+06  3.391667e+06  \n",
       "...          ...             ...           ...           ...  \n",
       "244483  5.459586               2  3.428478e+06  3.171342e+06  \n",
       "244484  5.416100               2  3.337585e+06  3.087266e+06  \n",
       "244485  5.459586               2  3.202391e+06  2.962211e+06  \n",
       "244486  5.446737               2  3.038545e+06  2.810655e+06  \n",
       "244487  5.468060               0  3.944862e+06  3.648997e+06  \n",
       "\n",
       "[32003 rows x 37 columns]"
      ]
     },
     "execution_count": 17,
     "metadata": {},
     "output_type": "execute_result"
    }
   ],
   "source": [
    "train_data['vista'] = train_data['vista'].replace(0,'Interior')\n",
    "test_data['vista'] = test_data['vista'].replace(0,'Interior')\n",
    "train_data['tiponegocio'] = train_data['tiponegocio'].replace('Venta y arriendo','Venta Y Arriendo')\n",
    "train_data = train_data[train_data['tiponegocio'] != 'Arriendo']\n",
    "train_data['tiempodeconstruido'] = train_data['tiempodeconstruido'].replace('ntre 0 y 5 años','Entre 0 y 5 años')\n",
    "train_data['valor/m2'] = train_data['valorventa'] / train_data['area']\n",
    "train_data['valor_habi'] = train_data['valor/m2']*0.925\n",
    "train_data"
   ]
  },
  {
   "cell_type": "markdown",
   "metadata": {},
   "source": [
    "# Apply Ordinal Encoder to String columns"
   ]
  },
  {
   "cell_type": "code",
   "execution_count": 18,
   "metadata": {},
   "outputs": [],
   "source": [
    "enc = OrdinalEncoder()\n",
    "\n",
    "X_tn = train_data['tiponegocio'].to_numpy().reshape(len(train_data),1)\n",
    "X_transform_tn = enc.fit_transform(X_tn)\n",
    "train_data['tiponegocio_int'] = X_transform_tn\n",
    "\n",
    "X_v = train_data['vista'].to_numpy().reshape(len(train_data),1)\n",
    "X_transform_v = enc.fit_transform(X_v)\n",
    "train_data['vista_int'] = X_transform_v\n",
    "\n",
    "X_ti = train_data['tipoinmueble'].to_numpy().reshape(len(train_data),1)\n",
    "X_transform_ti = enc.fit_transform(X_ti)\n",
    "train_data['tipoinmueble_int'] = X_transform_ti\n",
    "\n",
    "X_tc = train_data['tiempodeconstruido'].to_numpy().reshape(len(train_data),1)\n",
    "X_transform_tc = enc.fit_transform(X_tc)\n",
    "train_data['tiempodeconstruido_int'] = X_transform_tc"
   ]
  },
  {
   "cell_type": "code",
   "execution_count": 19,
   "metadata": {},
   "outputs": [],
   "source": [
    "X_ttn = test_data['tiponegocio'].to_numpy().reshape(len(test_data),1)\n",
    "X_transform_ttn = enc.fit_transform(X_ttn)\n",
    "test_data['tiponegocio_int'] = X_transform_ttn\n",
    "\n",
    "X_tv = test_data['vista'].to_numpy().reshape(len(test_data),1)\n",
    "X_transform_tv = enc.fit_transform(X_tv)\n",
    "test_data['vista_int'] = X_transform_tv\n",
    "\n",
    "X_tti = test_data['tipoinmueble'].to_numpy().reshape(len(test_data),1)\n",
    "X_transform_tti = enc.fit_transform(X_tti)\n",
    "test_data['tipoinmueble_int'] = X_transform_tti\n",
    "\n",
    "X_ttc = test_data['tiempodeconstruido'].to_numpy().reshape(len(test_data),1)\n",
    "X_transform_ttc = enc.fit_transform(X_ttc)\n",
    "test_data['tiempodeconstruido_int'] = X_transform_ttc"
   ]
  },
  {
   "cell_type": "code",
   "execution_count": 20,
   "metadata": {},
   "outputs": [
    {
     "name": "stderr",
     "output_type": "stream",
     "text": [
      "<ipython-input-20-10b1fdb1e174>:5: SettingWithCopyWarning: \n",
      "A value is trying to be set on a copy of a slice from a DataFrame.\n",
      "Try using .loc[row_indexer,col_indexer] = value instead\n",
      "\n",
      "See the caveats in the documentation: https://pandas.pydata.org/pandas-docs/stable/user_guide/indexing.html#returning-a-view-versus-a-copy\n",
      "  test_data_2['cluster_labels'] = cluster_labels_test\n"
     ]
    }
   ],
   "source": [
    "train_data_2 = train_data.select_dtypes(exclude = 'object')\n",
    "test_data_2 = test_data.select_dtypes(exclude = 'object')\n",
    "X_test_cluster = test_data[l].to_numpy()\n",
    "cluster_labels_test = kmeans.predict(X_test_cluster)\n",
    "test_data_2['cluster_labels'] = cluster_labels_test\n",
    "train_data_2 = train_data_2.drop(columns = ['area','id','valorventa','latitud','longitud','estrato'])\n",
    "test_data_2 = test_data_2.drop(columns = ['area','valorventa','latitud','longitud','estrato'])"
   ]
  },
  {
   "cell_type": "code",
   "execution_count": 35,
   "metadata": {},
   "outputs": [
    {
     "name": "stdout",
     "output_type": "stream",
     "text": [
      "0.1208694352448049\n"
     ]
    }
   ],
   "source": [
    "columns = train_data_2.columns.tolist()\n",
    "train_columns = columns[:-6] + columns[-4:]\n",
    "test_columns = columns[-5]\n",
    "X = train_data_2[train_columns].to_numpy()\n",
    "Y = train_data_2[test_columns].to_numpy()\n",
    "Y = Y.reshape(Y.shape[0],)\n",
    "X_train, X_test, y_train, y_test = train_test_split(X, Y, test_size=0.30, random_state=42)\n",
    "#Linear regression model\n",
    "reg = LinearRegression().fit(X_train, y_train)\n",
    "Y_pred = reg.predict(X_test)\n",
    "mape = mean_absolute_percentage_error(y_test,Y_pred)\n",
    "print(mape)"
   ]
  },
  {
   "cell_type": "code",
   "execution_count": null,
   "metadata": {},
   "outputs": [],
   "source": [
    "gsc = GridSearchCV(\n",
    "    estimator=RandomForestRegressor(),   #Estimator used for grid search\n",
    "    param_grid={        \n",
    "        'n_estimators': (100,200,500,1000),\n",
    "        'max_depth': (5,10,15,None),\n",
    "        'min_samples_split': (2,3,5,10),\n",
    "    },   #Parameters of that estimator\n",
    "    cv=5, scoring='neg_mean_absolute_percentage_error', verbose=0,n_jobs=-1)   #Splitting value and metric for evaluation\n",
    "    \n",
    "grid_result = gsc.fit(X_train, y_train)\n",
    "best_params = grid_result.best_params_   #Best parameters after running grid search\n",
    "    \n",
    "rfr = RandomForestRegressor(n_estimators=best_params['n_estimators'],max_depth=best_params['max_depth'],\n",
    "                            min_samples_split=best_params['min_samples_split'],random_state=1,n_jobs=-1)\n",
    "                            #Best parameters usage for random forest\n",
    "rfr.fit(X_train,y_train)\n",
    "y_pred_r=rfr.predict(X_test)\n",
    "print(mean_absolute_percentage_error(y_pred_r,y_test))\n",
    "print(best_params)  "
   ]
  },
  {
   "cell_type": "code",
   "execution_count": null,
   "metadata": {},
   "outputs": [],
   "source": [
    "gsc = GridSearchCV(\n",
    "    estimator=GradientBoostingRegressor(),   #Estimator used for grid search\n",
    "    param_grid={        \n",
    "        \"n_estimators\":(100, 200, 500, 1000),\n",
    "        \"max_depth\": (5, 10, 15),\n",
    "        \"learning_rate\": (0.01, 0.05, 0.1),\n",
    "    },   #Parameters of that estimator\n",
    "    cv=5, scoring='neg_mean_absolute_percentage_error', verbose=0,n_jobs=-1)   #Splitting value and metric for evaluation\n",
    "    \n",
    "grid_result = gsc.fit(X_train, y_train)\n",
    "best_params = grid_result.best_params_   #Best parameters after running grid search\n",
    "gbr = GradientBoostingRegressor(n_estimators=best_params['n_estimators'],max_depth=best_params['max_depth'],\n",
    "                           learning_rate=best_params['learning_rate'],random_state=0)\n",
    "                            #Best parameters usage for gradient boosting regressor\n",
    "gbr.fit(X_train,y_train)\n",
    "y_pred_gr=gbr.predict(X_test)\n",
    "print(mean_absolute_percentage_error(y_pred_gr,y_test))\n",
    "print(best_params)  "
   ]
  },
  {
   "cell_type": "code",
   "execution_count": null,
   "metadata": {
    "scrolled": true
   },
   "outputs": [],
   "source": [
    "#Test model\n",
    "columns_test = test_data_2.columns.tolist()\n",
    "X_pred_cols = columns_test[1:]\n",
    "X_pred = test_data_2[X_pred_cols].to_numpy()\n",
    "Y_pred_test = reg.predict(X_pred)\n",
    "test_data_2['valor_mt2_predicted'] = np.round(Y_pred_test.tolist(),3)\n",
    "submission = pd.DataFrame()\n",
    "submission['id'] = test_data_2['id']\n",
    "submission['valormt2_predicted'] = test_data_2['valor_mt2_predicted']\n",
    "submission.to_csv('submission.csv',index = False, decimal = '.',sep = ',')\n",
    "submission"
   ]
  },
  {
   "cell_type": "code",
   "execution_count": 38,
   "metadata": {},
   "outputs": [
    {
     "data": {
      "text/plain": [
       "array([ 5.00931197e+04,  5.34706507e+02, -6.82754384e+02, -1.06868877e+04,\n",
       "       -2.33317002e+04, -8.43496397e+03, -8.36659011e+03, -1.20499476e+04,\n",
       "       -1.75810000e+04, -3.73619468e+04,  2.54271553e+04, -8.26344770e+03,\n",
       "       -1.00453811e+04, -6.60228749e+04, -9.98538687e+03, -1.76447767e+03,\n",
       "        4.00746916e+04, -5.10660964e+04,  4.16092041e+04, -4.11650560e+04,\n",
       "       -1.57455103e+04,  1.34389746e-01,  3.01191922e+06, -2.93768680e+06,\n",
       "        3.61196140e+04,  9.88864989e+04, -2.70606174e+03,  0.00000000e+00,\n",
       "       -6.72067393e+03])"
      ]
     },
     "execution_count": 38,
     "metadata": {},
     "output_type": "execute_result"
    }
   ],
   "source": [
    "a = reg.coef_\n",
    "a\n"
   ]
  },
  {
   "cell_type": "code",
   "execution_count": null,
   "metadata": {},
   "outputs": [],
   "source": [
    "Y_pred_test_rf = rfr.predict(X_pred)\n",
    "test_data_2['valor_mt2_predicted'] = np.round(Y_pred_test_rf.tolist(),3)\n",
    "submission = pd.DataFrame()\n",
    "submission['id'] = test_data_2['id']\n",
    "submission['valormt2_predicted'] = test_data_2['valor_mt2_predicted']\n",
    "submission.to_csv('submission_rf.csv',index = False, decimal = '.',sep = ',')\n",
    "submission"
   ]
  },
  {
   "cell_type": "code",
   "execution_count": null,
   "metadata": {},
   "outputs": [],
   "source": [
    "Y_pred_test_gbr = gbr.predict(X_pred)\n",
    "test_data_2['valor_mt2_predicted'] = np.round(Y_pred_test_gbr.tolist(),3)\n",
    "submission = pd.DataFrame()\n",
    "submission['id'] = test_data_2['id']\n",
    "submission['valormt2_predicted'] = test_data_2['valor_mt2_predicted']\n",
    "submission.to_csv('submission_gbr.csv',index = False, decimal = '.',sep = ',')\n",
    "submission"
   ]
  }
 ],
 "metadata": {
  "kernelspec": {
   "display_name": "Python 3",
   "language": "python",
   "name": "python3"
  },
  "language_info": {
   "codemirror_mode": {
    "name": "ipython",
    "version": 3
   },
   "file_extension": ".py",
   "mimetype": "text/x-python",
   "name": "python",
   "nbconvert_exporter": "python",
   "pygments_lexer": "ipython3",
   "version": "3.8.5"
  }
 },
 "nbformat": 4,
 "nbformat_minor": 4
}
